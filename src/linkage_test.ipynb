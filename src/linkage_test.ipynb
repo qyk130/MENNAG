{
 "cells": [
  {
   "cell_type": "code",
   "execution_count": 1,
   "id": "7082bfde-4229-4744-afe2-cdae863c59c2",
   "metadata": {},
   "outputs": [],
   "source": [
    "from tasks.linkage import Linkage"
   ]
  },
  {
   "cell_type": "code",
   "execution_count": 2,
   "id": "9091a043-45a9-4059-873d-c5b0b1db08f8",
   "metadata": {},
   "outputs": [],
   "source": [
    "l = Linkage(8,1)\n",
    "l.seed()\n",
    "l.reset()"
   ]
  },
  {
   "cell_type": "code",
   "execution_count": 3,
   "id": "7e26a901-89aa-438c-98c2-52b7e0b08d4d",
   "metadata": {},
   "outputs": [
    {
     "data": {
      "text/plain": [
       "('11111111',\n",
       " 3.651351822207822,\n",
       " True,\n",
       " {'linkage_utilization': [0.4138765095092877,\n",
       "   0.5052259554505366,\n",
       "   0.4776518765239634,\n",
       "   0.5172868570830449,\n",
       "   0.47847213308311715,\n",
       "   0.5648963636283956,\n",
       "   0.4522193384461286,\n",
       "   0.24172278848334627]})"
      ]
     },
     "execution_count": 3,
     "metadata": {},
     "output_type": "execute_result"
    }
   ],
   "source": [
    "l.step('11111111')\n"
   ]
  },
  {
   "cell_type": "code",
   "execution_count": null,
   "id": "0765cf58-0455-4e86-b62f-e0ed9fbdec8d",
   "metadata": {},
   "outputs": [],
   "source": [
    "import gomea\n",
    "import numpy as np\n",
    "# Custom fitness function resembling the concatenated deceptive trap function of size k\n",
    "class CustomTrapFunction(gomea.fitness.BBOFitnessFunctionDiscrete):\n",
    "    # Any members must be assigned in __new__ to make them accessible during instantiation of superclass\n",
    "    def __new__(self, number_of_variables, k,l):\n",
    "        self.k = k\n",
    "        self.l = l\n",
    "        return super().__new__(self,number_of_variables)\n",
    "        \n",
    "    def objective_function(self, objective_index, variables):\n",
    "        f = 0\n",
    "        s = ''\n",
    "        for i in range(0,self.number_of_variables):\n",
    "            s += str(variables[i])\n",
    "        out = self.l.step(s)\n",
    "        f = out[1]\n",
    "        #print(f)\n",
    "        return f\n",
    "\n",
    "dim = 6\n",
    "l = Linkage(dim,1)\n",
    "l.seed(2)\n",
    "l.reset()\n",
    "lm = gomea.linkage.LinkageTree()\n",
    "fd = CustomTrapFunction(dim,k=1,l=l)\n",
    "dgom = gomea.DiscreteGOMEA(fitness=fd,linkage_model=lm,max_number_of_evaluations=1000)\n",
    "result = dgom.run()\n",
    "result.printAllStatistics()\n",
    "result.printFinalStatistics()"
   ]
  },
  {
   "cell_type": "code",
   "execution_count": null,
   "id": "56f422c5-4adf-4c45-b394-e1736c67e3c2",
   "metadata": {},
   "outputs": [],
   "source": []
  },
  {
   "cell_type": "code",
   "execution_count": null,
   "id": "5d6b4da4-7a6d-4b55-a762-befb2614dc16",
   "metadata": {},
   "outputs": [],
   "source": []
  }
 ],
 "metadata": {
  "kernelspec": {
   "display_name": "Python 3 (ipykernel)",
   "language": "python",
   "name": "python3"
  },
  "language_info": {
   "codemirror_mode": {
    "name": "ipython",
    "version": 3
   },
   "file_extension": ".py",
   "mimetype": "text/x-python",
   "name": "python",
   "nbconvert_exporter": "python",
   "pygments_lexer": "ipython3",
   "version": "3.10.12"
  }
 },
 "nbformat": 4,
 "nbformat_minor": 5
}
