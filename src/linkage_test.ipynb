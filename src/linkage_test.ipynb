{
 "cells": [
  {
   "cell_type": "code",
   "execution_count": 4,
   "id": "7082bfde-4229-4744-afe2-cdae863c59c2",
   "metadata": {},
   "outputs": [],
   "source": [
    "from tasks.linkage import Linkage"
   ]
  },
  {
   "cell_type": "code",
   "execution_count": 18,
   "id": "9091a043-45a9-4059-873d-c5b0b1db08f8",
   "metadata": {},
   "outputs": [
    {
     "name": "stdout",
     "output_type": "stream",
     "text": [
      "All statistics:\n",
      "best_cons_val : [0.0, 0.0, 0.0, 0.0, 0.0, 0.0]\n",
      "population_size : [2, 4, 4, 4, 8, 8]\n",
      "population_index : [0, 1, 1, 1, 2, 2]\n",
      "eval_time : [0.00013299999999999998, 0.00025899999999999995, 0.0003279999999999999, 0.00038799999999999984, 0.0005849999999999995, 0.0006479999999999994]\n",
      "best_obj_val : [8.0, 8.0, 8.0, 8.0, 8.0, 10.0]\n",
      "time : [0.000165, 0.000303, 0.00037799999999999997, 0.000443, 0.000685, 0.00078]\n",
      "evaluations : [6.0, 20.0, 28.0, 35.0, 59.0, 65.0]\n",
      "generation : [1, 1, 2, 3, 1, 1]\n",
      "Final statistics:\n",
      "best_cons_val : 0.0\n",
      "population_size : 8\n",
      "population_index : 2\n",
      "eval_time : 0.0006479999999999994\n",
      "best_obj_val : 10.0\n",
      "time : 0.00078\n",
      "evaluations : 65.0\n",
      "generation : 1\n"
     ]
    }
   ],
   "source": [
    "import gomea\n",
    "import numpy as np\n",
    "\n",
    "# Custom fitness function resembling the concatenated deceptive trap function of size k\n",
    "class CustomTrapFunction(gomea.fitness.BBOFitnessFunctionDiscrete):\n",
    "    # Any members must be assigned in __new__ to make them accessible during instantiation of superclass\n",
    "    def __new__(self, number_of_variables, k, value_to_reach):\n",
    "        assert( number_of_variables % k == 0 )\n",
    "        self.k = k\n",
    "        return super().__new__(self,number_of_variables,value_to_reach)\n",
    "\n",
    "    def objective_function(self, objective_index, variables):\n",
    "        f = 0\n",
    "        for i in range(0,self.number_of_variables,self.k):\n",
    "            trap_variables = variables[i:i+self.k]\n",
    "            unitation = np.sum(trap_variables)\n",
    "            if unitation == self.k:\n",
    "                f += unitation\n",
    "            else:\n",
    "                f += self.k - unitation - 1\n",
    "        return f\n",
    "\n",
    "dim = 10\n",
    "lm = gomea.linkage.BlockMarginalProduct(block_size=5)\n",
    "fd = CustomTrapFunction(dim,k=5,value_to_reach=dim)\n",
    "dgom = gomea.DiscreteGOMEA(fitness=fd,linkage_model=lm,max_number_of_evaluations=100000)\n",
    "result = dgom.run()\n",
    "result.printAllStatistics()\n",
    "result.printFinalStatistics()"
   ]
  },
  {
   "cell_type": "code",
   "execution_count": 3,
   "id": "7e26a901-89aa-438c-98c2-52b7e0b08d4d",
   "metadata": {},
   "outputs": [
    {
     "ename": "IndexError",
     "evalue": "range object index out of range",
     "output_type": "error",
     "traceback": [
      "\u001b[0;31m---------------------------------------------------------------------------\u001b[0m",
      "\u001b[0;31mIndexError\u001b[0m                                Traceback (most recent call last)",
      "Cell \u001b[0;32mIn[3], line 2\u001b[0m\n\u001b[1;32m      1\u001b[0m \u001b[38;5;28;01mimport\u001b[39;00m \u001b[38;5;21;01mrandom\u001b[39;00m\n\u001b[0;32m----> 2\u001b[0m \u001b[43mrandom\u001b[49m\u001b[38;5;241;43m.\u001b[39;49m\u001b[43mchoice\u001b[49m\u001b[43m(\u001b[49m\u001b[38;5;28;43mrange\u001b[39;49m\u001b[43m(\u001b[49m\u001b[38;5;241;43m0\u001b[39;49m\u001b[43m)\u001b[49m\u001b[43m)\u001b[49m\n",
      "File \u001b[0;32m~/.python/current/lib/python3.10/random.py:378\u001b[0m, in \u001b[0;36mRandom.choice\u001b[0;34m(self, seq)\u001b[0m\n\u001b[1;32m    376\u001b[0m \u001b[38;5;250m\u001b[39m\u001b[38;5;124;03m\"\"\"Choose a random element from a non-empty sequence.\"\"\"\u001b[39;00m\n\u001b[1;32m    377\u001b[0m \u001b[38;5;66;03m# raises IndexError if seq is empty\u001b[39;00m\n\u001b[0;32m--> 378\u001b[0m \u001b[38;5;28;01mreturn\u001b[39;00m \u001b[43mseq\u001b[49m\u001b[43m[\u001b[49m\u001b[38;5;28;43mself\u001b[39;49m\u001b[38;5;241;43m.\u001b[39;49m\u001b[43m_randbelow\u001b[49m\u001b[43m(\u001b[49m\u001b[38;5;28;43mlen\u001b[39;49m\u001b[43m(\u001b[49m\u001b[43mseq\u001b[49m\u001b[43m)\u001b[49m\u001b[43m)\u001b[49m\u001b[43m]\u001b[49m\n",
      "\u001b[0;31mIndexError\u001b[0m: range object index out of range"
     ]
    }
   ],
   "source": [
    "import random\n",
    "random.choice(range(0))\n"
   ]
  },
  {
   "cell_type": "code",
   "execution_count": 6,
   "id": "0765cf58-0455-4e86-b62f-e0ed9fbdec8d",
   "metadata": {},
   "outputs": [
    {
     "name": "stdout",
     "output_type": "stream",
     "text": [
      "ERROR! Session/line number was not unique in database. History logging moved to new session 82\n"
     ]
    }
   ],
   "source": [
    "import gomea\n",
    "import numpy as np\n",
    "# Custom fitness function resembling the concatenated deceptive trap function of size k\n",
    "class CustomTrapFunction(gomea.fitness.BBOFitnessFunctionDiscrete):\n",
    "    # Any members must be assigned in __new__ to make them accessible during instantiation of superclass\n",
    "    def __new__(self, number_of_variables, k,l):\n",
    "        self.k = k\n",
    "        self.l = l\n",
    "        return super().__new__(self,number_of_variables)\n",
    "        \n",
    "    def objective_function(self, objective_index, variables):\n",
    "        f = 0\n",
    "        s = ''\n",
    "        for i in range(0,self.number_of_variables):\n",
    "            s += str(variables[i])\n",
    "        out = self.l.step(s)\n",
    "        f = out[1]\n",
    "        #print(f)\n",
    "        return f\n",
    "\n",
    "dim = 8\n",
    "l = Linkage(dim,0.2)\n",
    "l.seed(2)\n",
    "l.reset()\n",
    "lm = gomea.linkage.LinkageTree()\n",
    "fd = CustomTrapFunction(dim,k=1,l=l)\n",
    "dgom = gomea.DiscreteGOMEA(fitness=fd,linkage_model=lm,max_number_of_evaluations=10000)\n",
    "result = dgom.run()\n",
    "result.printAllStatistics()\n",
    "result.printFinalStatistics()"
   ]
  },
  {
   "cell_type": "code",
   "execution_count": 2,
   "id": "56f422c5-4adf-4c45-b394-e1736c67e3c2",
   "metadata": {},
   "outputs": [],
   "source": [
    "import numpy as np\n",
    "\n",
    "def fitness(bitstring):\n",
    "    \"\"\" Calculate the fitness of a bitstring. Fitness is the sum of XOR of pairs of bits. \"\"\"\n",
    "    return np.sum([bitstring[i] ^ bitstring[i+1] for i in range(0, len(bitstring), 2)])\n",
    "\n",
    "def special_crossover(parent1, parent2):\n",
    "    \"\"\" Perform special crossover where pairs of bits are treated as a unit. \"\"\"\n",
    "    offspring = np.empty_like(parent1)\n",
    "    for i in range(0, len(parent1), 2):\n",
    "        if np.random.rand() < 0.5:\n",
    "            offspring[i:i+2] = parent1[i:i+2]\n",
    "        else:\n",
    "            offspring[i:i+2] = parent2[i:i+2]\n",
    "    return offspring\n",
    "\n",
    "def uniform_crossover(parent1, parent2):\n",
    "    \"\"\" Perform uniform crossover. \"\"\"\n",
    "    offspring = np.array([parent1[i] if np.random.rand() < 0.5 else parent2[i] for i in range(len(parent1))])\n",
    "    return offspring\n",
    "\n",
    "def mutate(bitstring, mutation_rate=1):\n",
    "    \"\"\" Mutate a bitstring with a given mutation rate. \"\"\"\n",
    "    for i in range(len(bitstring)):\n",
    "        if np.random.rand() < mutation_rate / len(bitstring):\n",
    "            bitstring[i] = 1 - bitstring[i]\n",
    "    return bitstring"
   ]
  },
  {
   "cell_type": "code",
   "execution_count": 3,
   "id": "5d6b4da4-7a6d-4b55-a762-befb2614dc16",
   "metadata": {},
   "outputs": [],
   "source": [
    "import matplotlib.pyplot as plt\n",
    "\n",
    "def genetic_algorithm_with_mutation_rate(n, crossover_function, mutation_rate, num_runs=500):\n",
    "    \"\"\" Run a (5+1) genetic algorithm with the given crossover function and mutation rate. \"\"\"\n",
    "    total_generations = 0\n",
    "    for _ in range(num_runs):\n",
    "        population = [np.random.randint(0, 2, 2*n) for _ in range(5)]\n",
    "        generations = 0\n",
    "        while True:\n",
    "            generations += 1\n",
    "            parents_indices = np.random.choice(len(population), 2, replace=False)\n",
    "            parents = [population[parents_indices[0]], population[parents_indices[1]]]\n",
    "\n",
    "            # Apply crossover if a crossover function is provided, else skip to mutation\n",
    "            if crossover_function:\n",
    "                offspring = crossover_function(parents[0], parents[1])\n",
    "            else:\n",
    "                offspring = np.copy(parents[0])  # choose a random parent as offspring for mutation only\n",
    "            \n",
    "            offspring = mutate(offspring, mutation_rate=mutation_rate)\n",
    "            offspring_fitness = fitness(offspring)\n",
    "            min_fitness_individual_index = np.argmin([fitness(individual) for individual in population])\n",
    "            if offspring_fitness > fitness(population[min_fitness_individual_index]):\n",
    "                population[min_fitness_individual_index] = offspring\n",
    "            if max(map(fitness, population)) == n:\n",
    "                break\n",
    "        total_generations += generations\n",
    "    return total_generations / num_runs\n",
    "\n",
    "# Mutation rates\n",
    "n = 100\n",
    "bitstring_length = 2 * n  # Size of the bitstring\n",
    "mutation_rates = np.linspace(0.5, 1.5, 21)\n",
    "\n",
    "# Run simulations and collect data\n",
    "avg_generations_special = [genetic_algorithm_with_mutation_rate(n, special_crossover, mr) for mr in mutation_rates]\n",
    "avg_generations_uniform = [genetic_algorithm_with_mutation_rate(n, uniform_crossover, mr) for mr in mutation_rates]\n",
    "avg_generations_mutation_only = [genetic_algorithm_with_mutation_rate(n, None, mr) for mr in mutation_rates]\n",
    "\n",
    "# Plotting\n",
    "plt.figure(figsize=(12, 6))\n",
    "plt.plot(mutation_rates, avg_generations_special, label='Special Crossover')\n",
    "plt.plot(mutation_rates, avg_generations_uniform, label='Uniform Crossover')\n",
    "plt.plot(mutation_rates, avg_generations_mutation_only, label='Mutation Only')\n",
    "plt.xlabel('Mutation Rate')\n",
    "plt.ylabel('Average Generations')\n",
    "plt.title('Average Generations vs Mutation Rate')\n",
    "plt.legend()\n",
    "plt.show()"
   ]
  },
  {
   "cell_type": "code",
   "execution_count": 3,
   "id": "5fad53a3",
   "metadata": {},
   "outputs": [
    {
     "name": "stdout",
     "output_type": "stream",
     "text": [
      "10\n",
      "9\n",
      "8\n",
      "7\n",
      "6\n",
      "5\n",
      "4\n",
      "3\n",
      "2\n",
      "1\n",
      "0\n"
     ]
    }
   ],
   "source": [
    "for i in range(10,-1,-1):\n",
    "    print(i)"
   ]
  },
  {
   "cell_type": "code",
   "execution_count": 2,
   "id": "e2921342",
   "metadata": {},
   "outputs": [
    {
     "name": "stdout",
     "output_type": "stream",
     "text": [
      "011010\n"
     ]
    }
   ],
   "source": [
    "import numpy as np\n",
    "\n",
    "# Example NumPy array of 0s and 1s\n",
    "array = np.array([0, 1, 1, 0, 1, 0])\n",
    "\n",
    "# Convert the NumPy array to a string of 0s and 1s\n",
    "array_str = ''.join(str(x) for x in array)\n",
    "print(array_str)"
   ]
  },
  {
   "cell_type": "code",
   "execution_count": 27,
   "id": "c2f69d59",
   "metadata": {},
   "outputs": [
    {
     "data": {
      "text/plain": [
       "(array([0, 1, 1, 0, 0, 1]), 1.4846876382934808)"
      ]
     },
     "execution_count": 27,
     "metadata": {},
     "output_type": "execute_result"
    }
   ],
   "source": [
    "\n",
    "import numpy as np\n",
    "from scipy.special import comb\n",
    "from itertools import combinations\n",
    "\n",
    "def calculate_block_fitness(block):\n",
    "    k = len(block)\n",
    "    block_fitness = 0\n",
    "\n",
    "    # Loop through levels\n",
    "    for level in range(1, k + 1):\n",
    "        level_contributions = []\n",
    "        # Generate all combinations for the current level\n",
    "        for bits in combinations(range(k), level):\n",
    "            # Generate a random contribution for each combination\n",
    "            contribution = np.random.rand()\n",
    "            level_contributions.append(contribution)\n",
    "        \n",
    "        # Standardize the contributions for this level to sum to 1\n",
    "        level_contributions = np.array(level_contributions) / sum(level_contributions)\n",
    "        \n",
    "        # Calculate the contribution to the block fitness from this level\n",
    "        for i, bits in enumerate(combinations(range(k), level)):\n",
    "            if all(block[b] for b in bits):  # Check if all bits in this combination are 1\n",
    "                block_fitness += level_contributions[i]\n",
    "\n",
    "    return block_fitness\n",
    "\n",
    "def total_fitness(bitstring, k, n):\n",
    "    assert len(bitstring) == k * n, \"Bitstring size must be k * n\"\n",
    "    total_fitness = 0\n",
    "    \n",
    "    # Split the bitstring into n blocks and calculate fitness for each block\n",
    "    for i in range(n):\n",
    "        block = bitstring[i*k : (i+1)*k]\n",
    "        total_fitness += calculate_block_fitness(block)\n",
    "    \n",
    "    return total_fitness\n",
    "\n",
    "# Example usage\n",
    "k, n = 3, 2  # 3 bits per block, 2 blocks\n",
    "bitstring = np.random.randint(2, size=k*n)\n",
    "fitness_value = total_fitness(bitstring, k, n)\n",
    "bitstring, fitness_value"
   ]
  }
 ],
 "metadata": {
  "kernelspec": {
   "display_name": "Python 3 (ipykernel)",
   "language": "python",
   "name": "python3"
  },
  "language_info": {
   "codemirror_mode": {
    "name": "ipython",
    "version": 3
   },
   "file_extension": ".py",
   "mimetype": "text/x-python",
   "name": "python",
   "nbconvert_exporter": "python",
   "pygments_lexer": "ipython3",
   "version": "3.10.13"
  }
 },
 "nbformat": 4,
 "nbformat_minor": 5
}
